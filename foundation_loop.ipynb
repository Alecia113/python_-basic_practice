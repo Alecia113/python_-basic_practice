{
  "nbformat": 4,
  "nbformat_minor": 0,
  "metadata": {
    "colab": {
      "name": "foundation.loop.ipynb",
      "provenance": [],
      "collapsed_sections": [],
      "authorship_tag": "ABX9TyOiZY8QVtsJJlnTrPllx07v",
      "include_colab_link": true
    },
    "kernelspec": {
      "name": "python3",
      "display_name": "Python 3"
    }
  },
  "cells": [
    {
      "cell_type": "markdown",
      "metadata": {
        "id": "view-in-github",
        "colab_type": "text"
      },
      "source": [
        "<a href=\"https://colab.research.google.com/github/Alecia113/python_-basic_practice/blob/main/foundation_loop.ipynb\" target=\"_parent\"><img src=\"https://colab.research.google.com/assets/colab-badge.svg\" alt=\"Open In Colab\"/></a>"
      ]
    },
    {
      "cell_type": "code",
      "metadata": {
        "id": "Eq5QHesnWb6R"
      },
      "source": [
        "student = ['党志文', '浦欣然', '罗鸿朗', '姜信然', '居俊德', '宿鸿福', '张成和', '林景辉', '戴英华', '马鸿宝', '郑翰音', '厉和煦', '钟英纵', '卢信然', '任正真', '翟彭勃', '蒋华清', '双英朗', '金文柏', '饶永思', '堵宏盛', '濮嘉澍', '戈睿慈', '邰子默', '于斯年', '扈元驹', '厍良工', '甘锐泽', '姚兴怀', '殳英杰', '吴鸿福', '王永年', '宫锐泽', '黎兴发', '朱乐贤', '关乐童', '养永寿', '养承嗣', '贾康成', '韩修齐', '彭凯凯', '白天干', '瞿学义', '那同济', '衡星文', '公兴怀', '宫嘉熙', '牧乐邦', '温彭祖', '桂永怡']\n",
        "for i in student:\n",
        "    print(i+'在不在？')"
      ],
      "execution_count": null,
      "outputs": []
    },
    {
      "cell_type": "code",
      "metadata": {
        "colab": {
          "base_uri": "https://localhost:8080/"
        },
        "id": "0E5kfneXWrbx",
        "outputId": "5b7226e7-f1c5-432a-d8cb-e05fac2ce125"
      },
      "source": [
        "for i in [1,2,3]:\n",
        "    print(i*5)\n",
        "    #把i 是空房子。【123】是一群客户。print 是结账； for i in 是在叫号。不用纠结i的名字。就是个空间代称。"
      ],
      "execution_count": 3,
      "outputs": [
        {
          "output_type": "stream",
          "text": [
            "5\n",
            "10\n",
            "15\n"
          ],
          "name": "stdout"
        }
      ]
    },
    {
      "cell_type": "code",
      "metadata": {
        "colab": {
          "base_uri": "https://localhost:8080/"
        },
        "id": "K06MP5PiXWYi",
        "outputId": "6544d3f3-11af-42f7-c130-0a6bd51308ba"
      },
      "source": [
        "dict = {'日本':'东京','英国':'伦敦','法国':'巴黎'}\n",
        "\n",
        "for i in dict:\n",
        "    print(i)"
      ],
      "execution_count": 4,
      "outputs": [
        {
          "output_type": "stream",
          "text": [
            "日本\n",
            "英国\n",
            "法国\n"
          ],
          "name": "stdout"
        }
      ]
    },
    {
      "cell_type": "code",
      "metadata": {
        "colab": {
          "base_uri": "https://localhost:8080/"
        },
        "id": "Y7Ds-QvlXWsJ",
        "outputId": "c55d7abf-a339-4e97-80bf-421a4138e01e"
      },
      "source": [
        "for i in '吴承恩':\n",
        "    print(i)"
      ],
      "execution_count": 6,
      "outputs": [
        {
          "output_type": "stream",
          "text": [
            "吴\n",
            "承\n",
            "恩\n"
          ],
          "name": "stdout"
        }
      ]
    },
    {
      "cell_type": "code",
      "metadata": {
        "colab": {
          "base_uri": "https://localhost:8080/"
        },
        "id": "8VEMp22GXggd",
        "outputId": "d0f835e4-5c70-41dd-d40d-3108e9e9dbdc"
      },
      "source": [
        "a = 100\n",
        "b = 0.01\n",
        "for i in str(a):\n",
        "  print(i)\n",
        "for i in str(b):\n",
        "  print(i)"
      ],
      "execution_count": 8,
      "outputs": [
        {
          "output_type": "stream",
          "text": [
            "1\n",
            "0\n",
            "0\n",
            "0\n",
            ".\n",
            "0\n",
            "1\n"
          ],
          "name": "stdout"
        }
      ]
    },
    {
      "cell_type": "code",
      "metadata": {
        "colab": {
          "base_uri": "https://localhost:8080/"
        },
        "id": "X_WDHdpeXrfV",
        "outputId": "bf68f2d1-a83a-4004-8170-fb38a97edde4"
      },
      "source": [
        "for i in range(3):\n",
        "  print(i)\n",
        "#range(x)--->0~x-1"
      ],
      "execution_count": 9,
      "outputs": [
        {
          "output_type": "stream",
          "text": [
            "0\n",
            "1\n",
            "2\n"
          ],
          "name": "stdout"
        }
      ]
    },
    {
      "cell_type": "code",
      "metadata": {
        "colab": {
          "base_uri": "https://localhost:8080/"
        },
        "id": "Zkh10RK2X2L7",
        "outputId": "aa2ef0a8-ba16-4ecf-fb1d-48d4c9d23b98"
      },
      "source": [
        "for i in range(13,17):\n",
        "  print(i)\n",
        "#range[)"
      ],
      "execution_count": 10,
      "outputs": [
        {
          "output_type": "stream",
          "text": [
            "13\n",
            "14\n",
            "15\n",
            "16\n"
          ],
          "name": "stdout"
        }
      ]
    },
    {
      "cell_type": "code",
      "metadata": {
        "colab": {
          "base_uri": "https://localhost:8080/"
        },
        "id": "ncGxPCMZX-aY",
        "outputId": "45b48529-93ee-47e8-b189-c2d21e3f281b"
      },
      "source": [
        "for i in range(3):\n",
        "  print('我很棒')"
      ],
      "execution_count": 12,
      "outputs": [
        {
          "output_type": "stream",
          "text": [
            "我很棒\n",
            "我很棒\n",
            "我很棒\n"
          ],
          "name": "stdout"
        }
      ]
    },
    {
      "cell_type": "code",
      "metadata": {
        "colab": {
          "base_uri": "https://localhost:8080/"
        },
        "id": "VwP1nG4NYG3i",
        "outputId": "4fe01150-9ea5-4f4d-f3ef-1a2e5476fb22"
      },
      "source": [
        "for i in range(11):\n",
        "  print('shu走的第'+ str(i) +'天,想他')"
      ],
      "execution_count": 18,
      "outputs": [
        {
          "output_type": "stream",
          "text": [
            "shu走的第0天,想他\n",
            "shu走的第1天,想他\n",
            "shu走的第2天,想他\n",
            "shu走的第3天,想他\n",
            "shu走的第4天,想他\n",
            "shu走的第5天,想他\n",
            "shu走的第6天,想他\n",
            "shu走的第7天,想他\n",
            "shu走的第8天,想他\n",
            "shu走的第9天,想他\n",
            "shu走的第10天,想他\n"
          ],
          "name": "stdout"
        }
      ]
    },
    {
      "cell_type": "code",
      "metadata": {
        "colab": {
          "base_uri": "https://localhost:8080/"
        },
        "id": "ZfTtJBrSYVbm",
        "outputId": "aa4149d3-680b-43b0-ea90-7ca09ca10b85"
      },
      "source": [
        "for i in range(11):\n",
        "    print('书恒走的第'+str(i)+'天，想他')\n",
        "#str(i)就可以变了"
      ],
      "execution_count": 19,
      "outputs": [
        {
          "output_type": "stream",
          "text": [
            "书恒走的第0天，想他\n",
            "书恒走的第1天，想他\n",
            "书恒走的第2天，想他\n",
            "书恒走的第3天，想他\n",
            "书恒走的第4天，想他\n",
            "书恒走的第5天，想他\n",
            "书恒走的第6天，想他\n",
            "书恒走的第7天，想他\n",
            "书恒走的第8天，想他\n",
            "书恒走的第9天，想他\n",
            "书恒走的第10天，想他\n"
          ],
          "name": "stdout"
        }
      ]
    },
    {
      "cell_type": "code",
      "metadata": {
        "colab": {
          "base_uri": "https://localhost:8080/"
        },
        "id": "btlpQ96IYmLO",
        "outputId": "4b87ea33-5dd3-42eb-9802-859ef231099a"
      },
      "source": [
        "for i in range(0,10,3): #从0数到9（取头不取尾），步长为3。\n",
        "  print(i)\n",
        "#range(a,b,c) 计数从a开始，不填为0； 计数到b结束不含； 计数间隔默认1"
      ],
      "execution_count": 21,
      "outputs": [
        {
          "output_type": "stream",
          "text": [
            "0\n",
            "3\n",
            "6\n",
            "9\n"
          ],
          "name": "stdout"
        }
      ]
    },
    {
      "cell_type": "code",
      "metadata": {
        "id": "cU1R7tcOYwsA"
      },
      "source": [
        "for i in range(0,101):\n",
        "  print(i*5)\n",
        "#请你用for循环完成1到100的整数分别乘以5的计算"
      ],
      "execution_count": null,
      "outputs": []
    },
    {
      "cell_type": "code",
      "metadata": {
        "colab": {
          "base_uri": "https://localhost:8080/"
        },
        "id": "aBgdAJXhZFeP",
        "outputId": "513e4860-ab2d-46a7-c199-af5784312199"
      },
      "source": [
        "d = {'小明':'醋','小红':'油','小白':'盐','小张':'米'}#字典\n",
        "for i in d:\n",
        "  print(d[i])\n",
        "  \n",
        "for i in d:\n",
        "    print(i)"
      ],
      "execution_count": 27,
      "outputs": [
        {
          "output_type": "stream",
          "text": [
            "醋\n",
            "油\n",
            "盐\n",
            "米\n",
            "小明\n",
            "小红\n",
            "小白\n",
            "小张\n"
          ],
          "name": "stdout"
        }
      ]
    },
    {
      "cell_type": "markdown",
      "metadata": {
        "id": "_1JyCtcoZb0V"
      },
      "source": [
        "**While**"
      ]
    },
    {
      "cell_type": "code",
      "metadata": {
        "colab": {
          "base_uri": "https://localhost:8080/"
        },
        "id": "oknvhoKQZyJY",
        "outputId": "4b6811e1-a639-4673-c2ef-b06db3f8bfc9"
      },
      "source": [
        "a = 0\n",
        "while a <5:\n",
        "  a = a+1\n",
        "  print(a)"
      ],
      "execution_count": 29,
      "outputs": [
        {
          "output_type": "stream",
          "text": [
            "1\n",
            "2\n",
            "3\n",
            "4\n",
            "5\n"
          ],
          "name": "stdout"
        }
      ]
    },
    {
      "cell_type": "code",
      "metadata": {
        "colab": {
          "base_uri": "https://localhost:8080/"
        },
        "id": "Cjqvr_qAZ1-t",
        "outputId": "1401059b-38ca-4ad7-f409-f77278b19996"
      },
      "source": [
        "a = 0                #先定义变量a，并赋值\n",
        "while a < 5:         #设定一个放行条件：a要小于5，才能办事\n",
        "    a = a + 1  # 满足条件时，就办事：将a+1\n",
        "    print(a)   # 继续办事：将a+1的结果打印出来 "
      ],
      "execution_count": 30,
      "outputs": [
        {
          "output_type": "stream",
          "text": [
            "1\n",
            "2\n",
            "3\n",
            "4\n",
            "5\n"
          ],
          "name": "stdout"
        }
      ]
    },
    {
      "cell_type": "code",
      "metadata": {
        "colab": {
          "base_uri": "https://localhost:8080/"
        },
        "id": "0yhfLj2yZ9HY",
        "outputId": "9f0cddc1-d48f-424c-c991-f3a607bdc276"
      },
      "source": [
        "man = ''  # 注：''代表空字符串\n",
        "while man != '有':  #注：!=代表不等于\n",
        "  man = input('有没有愿意为小龙女死的男人？没有的话就不能出古墓。')\n",
        "print('小龙女可以出古墓门下山啦~')"
      ],
      "execution_count": 32,
      "outputs": [
        {
          "output_type": "stream",
          "text": [
            "有没有愿意为小龙女死的男人？没有的话就不能出古墓。you\n",
            "有没有愿意为小龙女死的男人？没有的话就不能出古墓。有\n",
            "小龙女可以出古墓门下山啦~\n"
          ],
          "name": "stdout"
        }
      ]
    },
    {
      "cell_type": "code",
      "metadata": {
        "colab": {
          "base_uri": "https://localhost:8080/"
        },
        "id": "QaBfOehlaCyH",
        "outputId": "eaf0f4e7-7ef8-4a1b-b4b8-d613855a2240"
      },
      "source": [
        "password = ''\n",
        "while password != '816':\n",
        "  password = input('请尝试输入密码')\n",
        "print('欢迎回家！')#print 不能直接打🦟"
      ],
      "execution_count": 35,
      "outputs": [
        {
          "output_type": "stream",
          "text": [
            "请尝试输入密码123\n",
            "请尝试输入密码124142\n",
            "请尝试输入密码816\n",
            "欢迎回家！\n"
          ],
          "name": "stdout"
        }
      ]
    },
    {
      "cell_type": "code",
      "metadata": {
        "colab": {
          "base_uri": "https://localhost:8080/"
        },
        "id": "ObY3-PHqaaRn",
        "outputId": "46adf0ad-8369-4235-c435-8e0b8380cf26"
      },
      "source": [
        "a = 0  # 定义了一个变量a\n",
        "\n",
        "while a < 5:  # 当a小于5的时候，就自动执行后续缩进部分的语句\n",
        "    print('现在a的值是：' + str(a)) #加一个print看看现在的a是多少\n",
        "    a = a + 1  # 每执行一次循环，变量a的值都加1\n",
        "    print('加1后a的值是：' + str(a)) #加一个print看看加1后的a是多少\n",
        "print(a)"
      ],
      "execution_count": 36,
      "outputs": [
        {
          "output_type": "stream",
          "text": [
            "现在a的值是：0\n",
            "加1后a的值是：1\n",
            "现在a的值是：1\n",
            "加1后a的值是：2\n",
            "现在a的值是：2\n",
            "加1后a的值是：3\n",
            "现在a的值是：3\n",
            "加1后a的值是：4\n",
            "现在a的值是：4\n",
            "加1后a的值是：5\n",
            "5\n"
          ],
          "name": "stdout"
        }
      ]
    },
    {
      "cell_type": "code",
      "metadata": {
        "colab": {
          "base_uri": "https://localhost:8080/"
        },
        "id": "uPs3FgsMa0FY",
        "outputId": "de1bcade-e0a1-484a-e06b-f742b19d57d3"
      },
      "source": [
        "i = 1\n",
        "while i<101:\n",
        "  print(i*5)\n",
        "  i +=1"
      ],
      "execution_count": 37,
      "outputs": [
        {
          "output_type": "stream",
          "text": [
            "5\n",
            "10\n",
            "15\n",
            "20\n",
            "25\n",
            "30\n",
            "35\n",
            "40\n",
            "45\n",
            "50\n",
            "55\n",
            "60\n",
            "65\n",
            "70\n",
            "75\n",
            "80\n",
            "85\n",
            "90\n",
            "95\n",
            "100\n",
            "105\n",
            "110\n",
            "115\n",
            "120\n",
            "125\n",
            "130\n",
            "135\n",
            "140\n",
            "145\n",
            "150\n",
            "155\n",
            "160\n",
            "165\n",
            "170\n",
            "175\n",
            "180\n",
            "185\n",
            "190\n",
            "195\n",
            "200\n",
            "205\n",
            "210\n",
            "215\n",
            "220\n",
            "225\n",
            "230\n",
            "235\n",
            "240\n",
            "245\n",
            "250\n",
            "255\n",
            "260\n",
            "265\n",
            "270\n",
            "275\n",
            "280\n",
            "285\n",
            "290\n",
            "295\n",
            "300\n",
            "305\n",
            "310\n",
            "315\n",
            "320\n",
            "325\n",
            "330\n",
            "335\n",
            "340\n",
            "345\n",
            "350\n",
            "355\n",
            "360\n",
            "365\n",
            "370\n",
            "375\n",
            "380\n",
            "385\n",
            "390\n",
            "395\n",
            "400\n",
            "405\n",
            "410\n",
            "415\n",
            "420\n",
            "425\n",
            "430\n",
            "435\n",
            "440\n",
            "445\n",
            "450\n",
            "455\n",
            "460\n",
            "465\n",
            "470\n",
            "475\n",
            "480\n",
            "485\n",
            "490\n",
            "495\n",
            "500\n"
          ],
          "name": "stdout"
        }
      ]
    },
    {
      "cell_type": "code",
      "metadata": {
        "id": "uxB4TkQAbAF2"
      },
      "source": [
        " #for循环就像空房间依次办理业务，直到把【所有工作做完】才下班。但while循环就像哨卡放行，【满足条件就一直工作】，直到不满足条件就关闭哨卡。\n",
        "\n",
        "\n",
        "#定for 不定while"
      ],
      "execution_count": null,
      "outputs": []
    }
  ]
}