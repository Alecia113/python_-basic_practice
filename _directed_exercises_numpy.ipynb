{
  "nbformat": 4,
  "nbformat_minor": 0,
  "metadata": {
    "colab": {
      "name": "-directed exercises_numpy.ipynb",
      "provenance": [],
      "collapsed_sections": [],
      "authorship_tag": "ABX9TyMxVK4mb2jve1cb0/E3zqQK",
      "include_colab_link": true
    },
    "kernelspec": {
      "name": "python3",
      "display_name": "Python 3"
    }
  },
  "cells": [
    {
      "cell_type": "markdown",
      "metadata": {
        "id": "view-in-github",
        "colab_type": "text"
      },
      "source": [
        "<a href=\"https://colab.research.google.com/github/Alecia113/python_-basic_practice/blob/numpy/_directed_exercises_numpy.ipynb\" target=\"_parent\"><img src=\"https://colab.research.google.com/assets/colab-badge.svg\" alt=\"Open In Colab\"/></a>"
      ]
    },
    {
      "cell_type": "markdown",
      "metadata": {
        "id": "GX-eCgilj9wP"
      },
      "source": [
        "\n",
        "# **向量和矩阵；numpy**"
      ]
    },
    {
      "cell_type": "code",
      "metadata": {
        "colab": {
          "base_uri": "https://localhost:8080/"
        },
        "id": "E4QsqsgAkXve",
        "outputId": "f9f6839d-3873-47f6-85ed-3b8a38425e29"
      },
      "source": [
        "import numpy as np\n",
        "vector = np.array([1,2,3,4])\n",
        "metrix = np.array([[1,2,3],[4,5,6]])\n",
        "print(vector)\n",
        "print(metrix)"
      ],
      "execution_count": 12,
      "outputs": [
        {
          "output_type": "stream",
          "text": [
            "[1 2 3 4]\n",
            "[[1 2 3]\n",
            " [4 5 6]]\n"
          ],
          "name": "stdout"
        }
      ]
    },
    {
      "cell_type": "code",
      "metadata": {
        "id": "Ci7Gy5eFkgsm"
      },
      "source": [
        "vector.shape\n"
      ],
      "execution_count": null,
      "outputs": []
    },
    {
      "cell_type": "code",
      "metadata": {
        "colab": {
          "base_uri": "https://localhost:8080/"
        },
        "id": "9z6dpjthkzfH",
        "outputId": "b66d6b4d-4c8e-4914-e5a5-5dfb39ace06f"
      },
      "source": [
        "metrix"
      ],
      "execution_count": 9,
      "outputs": [
        {
          "output_type": "execute_result",
          "data": {
            "text/plain": [
              "array([[1, 2, 3],\n",
              "       [4, 5, 6]])"
            ]
          },
          "metadata": {
            "tags": []
          },
          "execution_count": 9
        }
      ]
    },
    {
      "cell_type": "code",
      "metadata": {
        "colab": {
          "base_uri": "https://localhost:8080/"
        },
        "id": "7mbn0cI1k1KW",
        "outputId": "65b319e6-d93c-4975-c433-d7667543c4dc"
      },
      "source": [
        "metrix.shape"
      ],
      "execution_count": 10,
      "outputs": [
        {
          "output_type": "execute_result",
          "data": {
            "text/plain": [
              "(2, 3)"
            ]
          },
          "metadata": {
            "tags": []
          },
          "execution_count": 10
        }
      ]
    },
    {
      "cell_type": "markdown",
      "metadata": {
        "id": "38YKN2G5k_DN"
      },
      "source": [
        "**numpy.arange()**定义等距向量或矩阵"
      ]
    },
    {
      "cell_type": "code",
      "metadata": {
        "id": "rUD6A4zLk_RP"
      },
      "source": [
        "import numpy as np\n",
        "a = np.arange(15) #rn 单词要打对啊\n",
        "b = np.arange(10,30,5) #开始结尾和间距"
      ],
      "execution_count": 18,
      "outputs": []
    },
    {
      "cell_type": "code",
      "metadata": {
        "colab": {
          "base_uri": "https://localhost:8080/"
        },
        "id": "T_PjZsvhlACc",
        "outputId": "0a8b1081-2544-4a53-961a-8347ca433ced"
      },
      "source": [
        "a"
      ],
      "execution_count": 17,
      "outputs": [
        {
          "output_type": "execute_result",
          "data": {
            "text/plain": [
              "array([ 0,  1,  2,  3,  4,  5,  6,  7,  8,  9, 10, 11, 12, 13, 14])"
            ]
          },
          "metadata": {
            "tags": []
          },
          "execution_count": 17
        }
      ]
    },
    {
      "cell_type": "code",
      "metadata": {
        "colab": {
          "base_uri": "https://localhost:8080/"
        },
        "id": "BsZ-nwrblAhS",
        "outputId": "8ce36a0c-4765-408d-a7ac-30cb2861367e"
      },
      "source": [
        "b"
      ],
      "execution_count": 19,
      "outputs": [
        {
          "output_type": "execute_result",
          "data": {
            "text/plain": [
              "array([10, 15, 20, 25])"
            ]
          },
          "metadata": {
            "tags": []
          },
          "execution_count": 19
        }
      ]
    },
    {
      "cell_type": "code",
      "metadata": {
        "id": "VBUzIFgCo7HW"
      },
      "source": [
        "c = np.arange(15).reshape(3,5)#三行五列.reshape"
      ],
      "execution_count": 20,
      "outputs": []
    },
    {
      "cell_type": "code",
      "metadata": {
        "colab": {
          "base_uri": "https://localhost:8080/"
        },
        "id": "VUawAPEMo7c7",
        "outputId": "41f0c306-0863-44de-f76a-eb0133769061"
      },
      "source": [
        "c"
      ],
      "execution_count": 21,
      "outputs": [
        {
          "output_type": "execute_result",
          "data": {
            "text/plain": [
              "array([[ 0,  1,  2,  3,  4],\n",
              "       [ 5,  6,  7,  8,  9],\n",
              "       [10, 11, 12, 13, 14]])"
            ]
          },
          "metadata": {
            "tags": []
          },
          "execution_count": 21
        }
      ]
    },
    {
      "cell_type": "code",
      "metadata": {
        "colab": {
          "base_uri": "https://localhost:8080/"
        },
        "id": "PlNPZTX5o7lU",
        "outputId": "50f90614-703c-4f0a-acee-375e5fcc9c0d"
      },
      "source": [
        "print(a)\n",
        "print(b)\n",
        "print(c)"
      ],
      "execution_count": 22,
      "outputs": [
        {
          "output_type": "stream",
          "text": [
            "[ 0  1  2  3  4  5  6  7  8  9 10 11 12 13 14]\n",
            "[10 15 20 25]\n",
            "[[ 0  1  2  3  4]\n",
            " [ 5  6  7  8  9]\n",
            " [10 11 12 13 14]]\n"
          ],
          "name": "stdout"
        }
      ]
    },
    {
      "cell_type": "markdown",
      "metadata": {
        "id": "TvMa3NrepRWl"
      },
      "source": [
        "**np.zeros** 定义的数据玩味0的向量或矩阵"
      ]
    },
    {
      "cell_type": "code",
      "metadata": {
        "id": "Cuu_CqSdpYb_"
      },
      "source": [
        "d = np.zeros(3)"
      ],
      "execution_count": 23,
      "outputs": []
    },
    {
      "cell_type": "code",
      "metadata": {
        "colab": {
          "base_uri": "https://localhost:8080/"
        },
        "id": "aMb5wbYxperM",
        "outputId": "5ecce036-029d-4998-e601-4ce320cb5812"
      },
      "source": [
        "d"
      ],
      "execution_count": 25,
      "outputs": [
        {
          "output_type": "execute_result",
          "data": {
            "text/plain": [
              "array([0., 0., 0.])"
            ]
          },
          "metadata": {
            "tags": []
          },
          "execution_count": 25
        }
      ]
    },
    {
      "cell_type": "code",
      "metadata": {
        "id": "jaNQj_iApgqB"
      },
      "source": [
        "d1 = np.zeros(3, dtype=np.int32)"
      ],
      "execution_count": 26,
      "outputs": []
    },
    {
      "cell_type": "code",
      "metadata": {
        "colab": {
          "base_uri": "https://localhost:8080/"
        },
        "id": "_t1O2XVXppO3",
        "outputId": "b6d52b08-bd8a-464f-c4c2-1dc04c9ccdb1"
      },
      "source": [
        "d1"
      ],
      "execution_count": 27,
      "outputs": [
        {
          "output_type": "execute_result",
          "data": {
            "text/plain": [
              "array([0, 0, 0], dtype=int32)"
            ]
          },
          "metadata": {
            "tags": []
          },
          "execution_count": 27
        }
      ]
    },
    {
      "cell_type": "code",
      "metadata": {
        "id": "bx7w85fjpq0b"
      },
      "source": [
        "d2 = np.zeros(3, dtype=np.int32, )"
      ],
      "execution_count": 29,
      "outputs": []
    },
    {
      "cell_type": "code",
      "metadata": {
        "colab": {
          "base_uri": "https://localhost:8080/"
        },
        "id": "xZqbilQqpwOV",
        "outputId": "8b5ef7e5-c74e-4ae9-a8fe-ccdd6ea24b63"
      },
      "source": [
        "d2"
      ],
      "execution_count": 30,
      "outputs": [
        {
          "output_type": "execute_result",
          "data": {
            "text/plain": [
              "array([0, 0, 0], dtype=int32)"
            ]
          },
          "metadata": {
            "tags": []
          },
          "execution_count": 30
        }
      ]
    },
    {
      "cell_type": "code",
      "metadata": {
        "colab": {
          "base_uri": "https://localhost:8080/"
        },
        "id": "LzGSnfZHp38T",
        "outputId": "cdcf5031-5654-48e3-e811-144521d1552c"
      },
      "source": [
        "\n"
      ],
      "execution_count": 31,
      "outputs": [
        {
          "output_type": "stream",
          "text": [
            "\n"
          ],
          "name": "stdout"
        }
      ]
    },
    {
      "cell_type": "code",
      "metadata": {
        "id": "1H3fAjIoqBsA"
      },
      "source": [
        "d3 = np.zeros((3))"
      ],
      "execution_count": 32,
      "outputs": []
    },
    {
      "cell_type": "code",
      "metadata": {
        "colab": {
          "base_uri": "https://localhost:8080/"
        },
        "id": "BkjQUs3gqG57",
        "outputId": "2f8adb39-ebbd-4bce-9b18-5ee40d181caa"
      },
      "source": [
        "d3"
      ],
      "execution_count": 33,
      "outputs": [
        {
          "output_type": "execute_result",
          "data": {
            "text/plain": [
              "array([0., 0., 0.])"
            ]
          },
          "metadata": {
            "tags": []
          },
          "execution_count": 33
        }
      ]
    },
    {
      "cell_type": "code",
      "metadata": {
        "id": "tEtaFuwbqMD6"
      },
      "source": [
        "d4 = np.zeros((2,3)) #行列式"
      ],
      "execution_count": 34,
      "outputs": []
    },
    {
      "cell_type": "code",
      "metadata": {
        "colab": {
          "base_uri": "https://localhost:8080/"
        },
        "id": "iaweDsUWqQhR",
        "outputId": "80a1442d-6e3a-438c-f9c4-747579186806"
      },
      "source": [
        "d4"
      ],
      "execution_count": 36,
      "outputs": [
        {
          "output_type": "execute_result",
          "data": {
            "text/plain": [
              "array([[0., 0., 0.],\n",
              "       [0., 0., 0.]])"
            ]
          },
          "metadata": {
            "tags": []
          },
          "execution_count": 36
        }
      ]
    },
    {
      "cell_type": "code",
      "metadata": {
        "id": "mSF-OgOVqV3b",
        "colab": {
          "base_uri": "https://localhost:8080/"
        },
        "outputId": "4e5efd75-d29c-4ea3-a9b6-5cc6dbf685c6"
      },
      "source": [
        "print(d1)\n",
        "print(d2)\n",
        "print(d3)\n",
        "print(d4)"
      ],
      "execution_count": 38,
      "outputs": [
        {
          "output_type": "stream",
          "text": [
            "[0 0 0]\n",
            "[0 0 0]\n",
            "[0. 0. 0.]\n",
            "[[0. 0. 0.]\n",
            " [0. 0. 0.]]\n"
          ],
          "name": "stdout"
        }
      ]
    },
    {
      "cell_type": "markdown",
      "metadata": {
        "id": "juWd7ze1quz1"
      },
      "source": [
        "**np.ones()** 可以定义全为1"
      ]
    },
    {
      "cell_type": "code",
      "metadata": {
        "id": "j0wX9FmNqvBy"
      },
      "source": [
        "import numpy as np\n",
        "e1 = np.ones(3, dtype=np.int32,)"
      ],
      "execution_count": 40,
      "outputs": []
    },
    {
      "cell_type": "code",
      "metadata": {
        "colab": {
          "base_uri": "https://localhost:8080/"
        },
        "id": "wtBK7QbsqvQ0",
        "outputId": "36a89999-c66f-4a53-c1d3-54e1c877b66a"
      },
      "source": [
        "e1"
      ],
      "execution_count": 41,
      "outputs": [
        {
          "output_type": "execute_result",
          "data": {
            "text/plain": [
              "array([1, 1, 1], dtype=int32)"
            ]
          },
          "metadata": {
            "tags": []
          },
          "execution_count": 41
        }
      ]
    },
    {
      "cell_type": "code",
      "metadata": {
        "id": "BmTGe-KyqwCS"
      },
      "source": [
        "e2 = np.ones(5, dtype=np.int32,)"
      ],
      "execution_count": 43,
      "outputs": []
    },
    {
      "cell_type": "code",
      "metadata": {
        "colab": {
          "base_uri": "https://localhost:8080/"
        },
        "id": "aXdO0ZCNqwjg",
        "outputId": "d41ac1dc-7ff6-4eb5-a9ed-ba0eeb2e5cbe"
      },
      "source": [
        "e2"
      ],
      "execution_count": 44,
      "outputs": [
        {
          "output_type": "execute_result",
          "data": {
            "text/plain": [
              "array([1, 1, 1, 1, 1], dtype=int32)"
            ]
          },
          "metadata": {
            "tags": []
          },
          "execution_count": 44
        }
      ]
    },
    {
      "cell_type": "code",
      "metadata": {
        "id": "Qshg5R1CrIi1"
      },
      "source": [
        "e3 = np.ones((2,3))"
      ],
      "execution_count": 45,
      "outputs": []
    },
    {
      "cell_type": "code",
      "metadata": {
        "colab": {
          "base_uri": "https://localhost:8080/"
        },
        "id": "XhWmI6WtrJBX",
        "outputId": "98978f1a-cb8c-498b-9298-864cf2b51739"
      },
      "source": [
        "e3"
      ],
      "execution_count": 46,
      "outputs": [
        {
          "output_type": "execute_result",
          "data": {
            "text/plain": [
              "array([[1., 1., 1.],\n",
              "       [1., 1., 1.]])"
            ]
          },
          "metadata": {
            "tags": []
          },
          "execution_count": 46
        }
      ]
    },
    {
      "cell_type": "code",
      "metadata": {
        "id": "ba0P4HaArJc4"
      },
      "source": [
        "e4 = np.ones((4,6))"
      ],
      "execution_count": 47,
      "outputs": []
    },
    {
      "cell_type": "code",
      "metadata": {
        "colab": {
          "base_uri": "https://localhost:8080/"
        },
        "id": "_Q1YjPGdrT2z",
        "outputId": "6f2339d4-3ef0-4d21-a9f7-1ea341a1909e"
      },
      "source": [
        "e4"
      ],
      "execution_count": 48,
      "outputs": [
        {
          "output_type": "execute_result",
          "data": {
            "text/plain": [
              "array([[1., 1., 1., 1., 1., 1.],\n",
              "       [1., 1., 1., 1., 1., 1.],\n",
              "       [1., 1., 1., 1., 1., 1.],\n",
              "       [1., 1., 1., 1., 1., 1.]])"
            ]
          },
          "metadata": {
            "tags": []
          },
          "execution_count": 48
        }
      ]
    },
    {
      "cell_type": "code",
      "metadata": {
        "colab": {
          "base_uri": "https://localhost:8080/"
        },
        "id": "N_jq6lzxrU5H",
        "outputId": "24d34bcb-6b71-4b9b-d5ee-ec9e846cb884"
      },
      "source": [
        "print(e1)\n",
        "print(e2)\n",
        "print(e3)\n",
        "print(e4)"
      ],
      "execution_count": 49,
      "outputs": [
        {
          "output_type": "stream",
          "text": [
            "[1 1 1]\n",
            "[1 1 1 1 1]\n",
            "[[1. 1. 1.]\n",
            " [1. 1. 1.]]\n",
            "[[1. 1. 1. 1. 1. 1.]\n",
            " [1. 1. 1. 1. 1. 1.]\n",
            " [1. 1. 1. 1. 1. 1.]\n",
            " [1. 1. 1. 1. 1. 1.]]\n"
          ],
          "name": "stdout"
        }
      ]
    },
    {
      "cell_type": "markdown",
      "metadata": {
        "id": "S5ePOsNurVIy"
      },
      "source": [
        "**numpy.random.random()**"
      ]
    },
    {
      "cell_type": "code",
      "metadata": {
        "id": "jLn5IFIjrVU5"
      },
      "source": [
        "import numpy as np\n",
        "f1 = np.random.random(3)"
      ],
      "execution_count": 53,
      "outputs": []
    },
    {
      "cell_type": "code",
      "metadata": {
        "colab": {
          "base_uri": "https://localhost:8080/"
        },
        "id": "1tDsu1F2rVfe",
        "outputId": "5411146d-dd0a-4a7e-c89e-124b2b3d0a27"
      },
      "source": [
        "f1"
      ],
      "execution_count": 56,
      "outputs": [
        {
          "output_type": "execute_result",
          "data": {
            "text/plain": [
              "array([0.38794224, 0.94055668, 0.83196526])"
            ]
          },
          "metadata": {
            "tags": []
          },
          "execution_count": 56
        }
      ]
    },
    {
      "cell_type": "code",
      "metadata": {
        "id": "5ht4ZLDWr1eC"
      },
      "source": [
        "f2 = 10 * np.random.random(3)"
      ],
      "execution_count": 66,
      "outputs": []
    },
    {
      "cell_type": "code",
      "metadata": {
        "colab": {
          "base_uri": "https://localhost:8080/"
        },
        "id": "XviF-Cwrr1uo",
        "outputId": "e395f8a4-4eb9-4b81-9f0f-73b3af822785"
      },
      "source": [
        "f2"
      ],
      "execution_count": 67,
      "outputs": [
        {
          "output_type": "execute_result",
          "data": {
            "text/plain": [
              "array([7.44710529, 0.44640817, 8.48819462])"
            ]
          },
          "metadata": {
            "tags": []
          },
          "execution_count": 67
        }
      ]
    },
    {
      "cell_type": "code",
      "metadata": {
        "id": "xGNmYsc1r2NO"
      },
      "source": [
        "f3 = np.random.random((3,2))"
      ],
      "execution_count": 73,
      "outputs": []
    },
    {
      "cell_type": "code",
      "metadata": {
        "colab": {
          "base_uri": "https://localhost:8080/"
        },
        "id": "WhSaS12SsFPp",
        "outputId": "79dfb203-d39e-494b-f91b-17a85d938f0f"
      },
      "source": [
        "f3"
      ],
      "execution_count": 74,
      "outputs": [
        {
          "output_type": "execute_result",
          "data": {
            "text/plain": [
              "array([[0.94191655, 0.1047416 ],\n",
              "       [0.60753055, 0.94301683],\n",
              "       [0.38152906, 0.61565525]])"
            ]
          },
          "metadata": {
            "tags": []
          },
          "execution_count": 74
        }
      ]
    },
    {
      "cell_type": "code",
      "metadata": {
        "id": "nAK30YZ0sFi5"
      },
      "source": [
        "f4 = 10 * np.random.random((3,2))"
      ],
      "execution_count": 75,
      "outputs": []
    },
    {
      "cell_type": "code",
      "metadata": {
        "id": "M4M4UFbksOgV",
        "colab": {
          "base_uri": "https://localhost:8080/"
        },
        "outputId": "49e976f5-8c6e-42cc-9cae-1bd795de4685"
      },
      "source": [
        "f4"
      ],
      "execution_count": 77,
      "outputs": [
        {
          "output_type": "execute_result",
          "data": {
            "text/plain": [
              "array([[6.29052432, 8.77617883],\n",
              "       [0.13056445, 2.45196533],\n",
              "       [9.41775176, 7.137024  ]])"
            ]
          },
          "metadata": {
            "tags": []
          },
          "execution_count": 77
        }
      ]
    },
    {
      "cell_type": "markdown",
      "metadata": {
        "id": "zCkg3poisTYo"
      },
      "source": [
        "**numpy.linspace()**  由区间中固定等距元素组成1的向量或矩阵"
      ]
    },
    {
      "cell_type": "code",
      "metadata": {
        "id": "LqtlfpF1sXY5"
      },
      "source": [
        "import numpy as np\n",
        "g1 = np.linspace(0, 2*np.pi, 6)"
      ],
      "execution_count": 81,
      "outputs": []
    },
    {
      "cell_type": "code",
      "metadata": {
        "id": "T4bdL_YNsToq",
        "colab": {
          "base_uri": "https://localhost:8080/"
        },
        "outputId": "d54c5ef4-6883-4a6c-ac0d-797e55dbba8a"
      },
      "source": [
        "g1 "
      ],
      "execution_count": 86,
      "outputs": [
        {
          "output_type": "execute_result",
          "data": {
            "text/plain": [
              "array([0.        , 1.25663706, 2.51327412, 3.76991118, 5.02654825,\n",
              "       6.28318531])"
            ]
          },
          "metadata": {
            "tags": []
          },
          "execution_count": 86
        }
      ]
    },
    {
      "cell_type": "code",
      "metadata": {
        "id": "lEirE3WJt2kz"
      },
      "source": [
        "g2 = g1.reshape(2,3)"
      ],
      "execution_count": 84,
      "outputs": []
    },
    {
      "cell_type": "code",
      "metadata": {
        "colab": {
          "base_uri": "https://localhost:8080/"
        },
        "id": "XtutwZFUuFsJ",
        "outputId": "04e79dd2-e01c-4636-a905-d25f86e89657"
      },
      "source": [
        "g2"
      ],
      "execution_count": 85,
      "outputs": [
        {
          "output_type": "execute_result",
          "data": {
            "text/plain": [
              "array([[0.        , 1.25663706, 2.51327412],\n",
              "       [3.76991118, 5.02654825, 6.28318531]])"
            ]
          },
          "metadata": {
            "tags": []
          },
          "execution_count": 85
        }
      ]
    },
    {
      "cell_type": "code",
      "metadata": {
        "id": "S2WWb0FhuHiN"
      },
      "source": [
        "g3 = np.linspace(10, 30)\n",
        "#np.linspace(start（必有）, stop（有时有）, num=50（均分数量）, endpoint=True（包含stop就True，不包含就False）, retstep=False（如果为True，返回值和步长）, dtype=None（参数类型，不定义的话根据前面参数的数据类型）, axis=0)"
      ],
      "execution_count": 87,
      "outputs": []
    },
    {
      "cell_type": "code",
      "metadata": {
        "colab": {
          "base_uri": "https://localhost:8080/"
        },
        "id": "pP1Co4PKuT-t",
        "outputId": "fc38a6d1-c4ae-4267-f88f-1d0f7665b1b6"
      },
      "source": [
        "g3  #abbr. 线性等分向量（linear space）linsapce"
      ],
      "execution_count": 88,
      "outputs": [
        {
          "output_type": "execute_result",
          "data": {
            "text/plain": [
              "array([10.        , 10.40816327, 10.81632653, 11.2244898 , 11.63265306,\n",
              "       12.04081633, 12.44897959, 12.85714286, 13.26530612, 13.67346939,\n",
              "       14.08163265, 14.48979592, 14.89795918, 15.30612245, 15.71428571,\n",
              "       16.12244898, 16.53061224, 16.93877551, 17.34693878, 17.75510204,\n",
              "       18.16326531, 18.57142857, 18.97959184, 19.3877551 , 19.79591837,\n",
              "       20.20408163, 20.6122449 , 21.02040816, 21.42857143, 21.83673469,\n",
              "       22.24489796, 22.65306122, 23.06122449, 23.46938776, 23.87755102,\n",
              "       24.28571429, 24.69387755, 25.10204082, 25.51020408, 25.91836735,\n",
              "       26.32653061, 26.73469388, 27.14285714, 27.55102041, 27.95918367,\n",
              "       28.36734694, 28.7755102 , 29.18367347, 29.59183673, 30.        ])"
            ]
          },
          "metadata": {
            "tags": []
          },
          "execution_count": 88
        }
      ]
    },
    {
      "cell_type": "code",
      "metadata": {
        "id": "QJU-SvDnu9zz"
      },
      "source": [
        "g4 = np.linspace(10, 30 , num=100, retstep=1, ) #别忘了每个属性中间用，隔开。"
      ],
      "execution_count": 94,
      "outputs": []
    },
    {
      "cell_type": "code",
      "metadata": {
        "colab": {
          "base_uri": "https://localhost:8080/"
        },
        "id": "PZh1RUJ3vL8a",
        "outputId": "4a12bb2a-23a4-4a45-e30a-4d71e7bf455d"
      },
      "source": [
        "g4"
      ],
      "execution_count": 97,
      "outputs": [
        {
          "output_type": "execute_result",
          "data": {
            "text/plain": [
              "(array([10.        , 10.2020202 , 10.4040404 , 10.60606061, 10.80808081,\n",
              "        11.01010101, 11.21212121, 11.41414141, 11.61616162, 11.81818182,\n",
              "        12.02020202, 12.22222222, 12.42424242, 12.62626263, 12.82828283,\n",
              "        13.03030303, 13.23232323, 13.43434343, 13.63636364, 13.83838384,\n",
              "        14.04040404, 14.24242424, 14.44444444, 14.64646465, 14.84848485,\n",
              "        15.05050505, 15.25252525, 15.45454545, 15.65656566, 15.85858586,\n",
              "        16.06060606, 16.26262626, 16.46464646, 16.66666667, 16.86868687,\n",
              "        17.07070707, 17.27272727, 17.47474747, 17.67676768, 17.87878788,\n",
              "        18.08080808, 18.28282828, 18.48484848, 18.68686869, 18.88888889,\n",
              "        19.09090909, 19.29292929, 19.49494949, 19.6969697 , 19.8989899 ,\n",
              "        20.1010101 , 20.3030303 , 20.50505051, 20.70707071, 20.90909091,\n",
              "        21.11111111, 21.31313131, 21.51515152, 21.71717172, 21.91919192,\n",
              "        22.12121212, 22.32323232, 22.52525253, 22.72727273, 22.92929293,\n",
              "        23.13131313, 23.33333333, 23.53535354, 23.73737374, 23.93939394,\n",
              "        24.14141414, 24.34343434, 24.54545455, 24.74747475, 24.94949495,\n",
              "        25.15151515, 25.35353535, 25.55555556, 25.75757576, 25.95959596,\n",
              "        26.16161616, 26.36363636, 26.56565657, 26.76767677, 26.96969697,\n",
              "        27.17171717, 27.37373737, 27.57575758, 27.77777778, 27.97979798,\n",
              "        28.18181818, 28.38383838, 28.58585859, 28.78787879, 28.98989899,\n",
              "        29.19191919, 29.39393939, 29.5959596 , 29.7979798 , 30.        ]),\n",
              " 0.20202020202020202)"
            ]
          },
          "metadata": {
            "tags": []
          },
          "execution_count": 97
        }
      ]
    },
    {
      "cell_type": "markdown",
      "metadata": {
        "id": "_URF44plvnnv"
      },
      "source": [
        "**np.logspace**返回等比数列"
      ]
    },
    {
      "cell_type": "code",
      "metadata": {
        "id": "6wG46dHRvzVs"
      },
      "source": [
        "#https://blog.csdn.net/duanlianvip/article/details/100102797?ops_request_misc=%257B%2522request%255Fid%2522%253A%2522161490309916780255225143%2522%252C%2522scm%2522%253A%252220140713.130102334.pc%255Fall.%2522%257D&request_id=161490309916780255225143&biz_id=0&utm_medium=distribute.pc_search_result.none-task-blog-2~all~first_rank_v2~rank_v29-2-100102797.first_rank_v2_pc_rank_v29&utm_term=.linspace参数含义\n",
        "'这个人讲的参数用法都很详细"
      ],
      "execution_count": null,
      "outputs": []
    }
  ]
}