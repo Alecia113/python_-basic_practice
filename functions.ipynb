{
  "nbformat": 4,
  "nbformat_minor": 0,
  "metadata": {
    "colab": {
      "name": "functions.ipynb",
      "provenance": [],
      "collapsed_sections": [],
      "authorship_tag": "ABX9TyOPkVHmjyX83mTwqFhJCnZb",
      "include_colab_link": true
    },
    "kernelspec": {
      "name": "python3",
      "display_name": "Python 3"
    }
  },
  "cells": [
    {
      "cell_type": "markdown",
      "metadata": {
        "id": "view-in-github",
        "colab_type": "text"
      },
      "source": [
        "<a href=\"https://colab.research.google.com/github/Alecia113/python_-basic_practice/blob/main/functions.ipynb\" target=\"_parent\"><img src=\"https://colab.research.google.com/assets/colab-badge.svg\" alt=\"Open In Colab\"/></a>"
      ]
    },
    {
      "cell_type": "markdown",
      "metadata": {
        "id": "TIUPxd0fbcKx"
      },
      "source": [
        "**函数**输入x 执行3x+5 输出y"
      ]
    },
    {
      "cell_type": "code",
      "metadata": {
        "id": "a5nf-T1xcA2h"
      },
      "source": [
        "#输入（数据）；常用ppython函数 eg：int（）。输出 ； 括号中的jiao参数。函数后面都有括号。括号里的东西，就是我们要输入给它的。也就是参数。\n",
        "#参数=自变量"
      ],
      "execution_count": null,
      "outputs": []
    },
    {
      "cell_type": "code",
      "metadata": {
        "colab": {
          "base_uri": "https://localhost:8080/"
        },
        "id": "0LtHR5_NcgIO",
        "outputId": "8767b471-4752-418a-8586-c49344c31ef0"
      },
      "source": [
        "#直接运行代码即可    \n",
        "a = len('万物的终极答案是42')\n",
        "print(a)\n",
        "b = len(['海伯利安','基地','三体'])\n",
        "print(b)"
      ],
      "execution_count": 1,
      "outputs": [
        {
          "output_type": "stream",
          "text": [
            "10\n",
            "3\n"
          ],
          "name": "stdout"
        }
      ]
    },
    {
      "cell_type": "markdown",
      "metadata": {
        "id": "eVRMheEBcgXh"
      },
      "source": [
        "# 定义函数语法"
      ]
    },
    {
      "cell_type": "code",
      "metadata": {
        "id": "ZuNAT1Cocpt0"
      },
      "source": [
        "'''\n",
        "def 函数名(参数):\n",
        "  函数体\n",
        "  return 语句\n",
        "  '''\n",
        "  "
      ],
      "execution_count": null,
      "outputs": []
    },
    {
      "cell_type": "code",
      "metadata": {
        "id": "_fwCfSTXc06V"
      },
      "source": [
        "def math(x):\n",
        "  y = 3*x + 5\n",
        "  return y"
      ],
      "execution_count": 4,
      "outputs": []
    },
    {
      "cell_type": "code",
      "metadata": {
        "id": "L30mkmGTc6Ph"
      },
      "source": [
        "# 函数名：1. 名字最好能体现函数的功能，一般用小写字母和单下划线、数字等组合\n",
        "#      2. 不可与内置函数重名（内置函数不需要定义即可直接使用）\n",
        "def math(x):\n",
        "# 参数：根据函数功能，括号里可以有多个参数，也可以不带参数，命名规则与函数名相同\n",
        "# 规范：括号是英文括号，后面的冒号不能丢\n",
        "    y = 3*x + 5\n",
        "# 函数体：函数的执行过程，体现函数功能的语句，要缩进，一般是四个空格\n",
        "    return y\n",
        "# return语句：后面可以接多种数据类型，如果函数不需要返回值的话，可以省略"
      ],
      "execution_count": 5,
      "outputs": []
    },
    {
      "cell_type": "code",
      "metadata": {
        "colab": {
          "base_uri": "https://localhost:8080/"
        },
        "id": "4-hAfmyPdIpy",
        "outputId": "14bdd543-aefa-4060-df49-ed52065fa464"
      },
      "source": [
        "def math(x):\n",
        "  y = x**2 +x  ## 提示：x ** y 表示 x的y次幂\n",
        "  return y\n",
        "\n",
        "a = math(10)  #将这个函数名（想入的值） 赋值给 名字 ；；打印这个名字\n",
        "print(a)\n",
        "\n",
        "print('===')\n",
        "\n",
        "print(math(10))\n",
        "print(math(20))\n",
        "b = math(30)\n",
        "print(b)"
      ],
      "execution_count": 11,
      "outputs": [
        {
          "output_type": "stream",
          "text": [
            "110\n",
            "===\n",
            "110\n",
            "420\n",
            "930\n"
          ],
          "name": "stdout"
        }
      ]
    },
    {
      "cell_type": "code",
      "metadata": {
        "colab": {
          "base_uri": "https://localhost:8080/"
        },
        "id": "NtJq61tmdPbL",
        "outputId": "f91c4f11-e506-4c0f-84f4-4efdbea6669d"
      },
      "source": [
        "def my_len(x):\n",
        "  count = 0\n",
        "  for i in x:  #文字直接访问就可以了不需要加str 因为是每一个都单独拿出来遍历的\n",
        "    count +=1\n",
        "  return count\n",
        "\n",
        "print(my_len('三根皮带，四斤大豆'))"
      ],
      "execution_count": 16,
      "outputs": [
        {
          "output_type": "stream",
          "text": [
            "9\n"
          ],
          "name": "stdout"
        }
      ]
    },
    {
      "cell_type": "code",
      "metadata": {
        "colab": {
          "base_uri": "https://localhost:8080/"
        },
        "id": "Ko3bfClYeMUj",
        "outputId": "0dd5bb73-4440-4630-e6a5-c5ace39b9782"
      },
      "source": [
        "def my_len(words):\n",
        "    counter = 0\n",
        "    for i in words:\n",
        "        counter = counter + 1\n",
        "    return counter\n",
        "\n",
        "a = '三根皮带，四斤大豆'\n",
        "print(my_len(a))\n",
        "#等价于print(my_len('三根皮带，四斤大豆'))"
      ],
      "execution_count": 17,
      "outputs": [
        {
          "output_type": "stream",
          "text": [
            "9\n"
          ],
          "name": "stdout"
        }
      ]
    },
    {
      "cell_type": "markdown",
      "metadata": {
        "id": "ii-UUGTlewDX"
      },
      "source": [
        "**默认参数和不定长参数**"
      ]
    },
    {
      "cell_type": "code",
      "metadata": {
        "colab": {
          "base_uri": "https://localhost:8080/"
        },
        "id": "s12lYWf5e4-I",
        "outputId": "ae3fda42-f268-4ae4-c72b-43cf8b8510a0"
      },
      "source": [
        "#直接运行代码即可    \n",
        "def opening():\n",
        "    print('总有一种味道能温暖你～')\n",
        "    print('深夜食堂正式开业啦！')\n",
        "    print('欢迎来自五湖四海的你前来品尝!')\n",
        "\n",
        "opening() #全打出来就是（） 就是没有参数也不能省略（）"
      ],
      "execution_count": 18,
      "outputs": [
        {
          "output_type": "stream",
          "text": [
            "总有一种味道能温暖你～\n",
            "深夜食堂正式开业啦！\n",
            "欢迎来自五湖四海的你前来品尝!\n"
          ],
          "name": "stdout"
        }
      ]
    },
    {
      "cell_type": "code",
      "metadata": {
        "colab": {
          "base_uri": "https://localhost:8080/"
        },
        "id": "0PTZk2r3e8I5",
        "outputId": "603774d7-db06-4054-ab01-d18b3fa03398"
      },
      "source": [
        "def menu(a,c):\n",
        "  print('开'+ a)\n",
        "  print('主'+c)\n",
        "menu('xx','uu')"
      ],
      "execution_count": 19,
      "outputs": [
        {
          "output_type": "stream",
          "text": [
            "开xx\n",
            "主uu\n"
          ],
          "name": "stdout"
        }
      ]
    },
    {
      "cell_type": "code",
      "metadata": {
        "colab": {
          "base_uri": "https://localhost:8080/"
        },
        "id": "lCcLBBxCfliA",
        "outputId": "1cd9136a-942d-45ae-e707-23dea65c8b33"
      },
      "source": [
        "def menu(appetizer, course):\n",
        "    print('一份开胃菜：' + appetizer)\n",
        "    print('一份主食：' + course)\n",
        "\n",
        "menu('话梅花生','牛肉拉面')\n",
        "#还记得转义字符\\n吧，表示换行"
      ],
      "execution_count": 21,
      "outputs": [
        {
          "output_type": "stream",
          "text": [
            "一份开胃菜：话梅花生\n",
            "一份主食：牛肉拉面\n"
          ],
          "name": "stdout"
        }
      ]
    },
    {
      "cell_type": "code",
      "metadata": {
        "colab": {
          "base_uri": "https://localhost:8080/"
        },
        "id": "bL6y0K4XfpI6",
        "outputId": "23bffcd2-36ad-482e-938d-e1accee97649"
      },
      "source": [
        "def menu(appetizer, course):\n",
        "    print('一份开胃菜：' + appetizer)\n",
        "    print('一份主食:'+course+'\\n')\n",
        "\n",
        "menu('nr','hm')\n",
        "menu('hm','nr')"
      ],
      "execution_count": 23,
      "outputs": [
        {
          "output_type": "stream",
          "text": [
            "一份开胃菜：nr\n",
            "一份主食:hm\n",
            "\n",
            "一份开胃菜：hm\n",
            "一份主食:nr\n",
            "\n"
          ],
          "name": "stdout"
        }
      ]
    },
    {
      "cell_type": "code",
      "metadata": {
        "colab": {
          "base_uri": "https://localhost:8080/"
        },
        "id": "UhGzbPaef6qb",
        "outputId": "5f574ead-bb0e-4293-c2d0-67f7825cd097"
      },
      "source": [
        "def menu(appetizer, course):\n",
        "    print('一份开胃菜：' + appetizer)\n",
        "    print('一份主食：' + course + '\\n')\n",
        "    #还记得转义字符\\n吧，表示换行\n",
        "\n",
        "menu('牛肉拉面','话梅花生')\n",
        "menu('话梅花生','牛肉拉面')"
      ],
      "execution_count": 24,
      "outputs": [
        {
          "output_type": "stream",
          "text": [
            "一份开胃菜：牛肉拉面\n",
            "一份主食：话梅花生\n",
            "\n",
            "一份开胃菜：话梅花生\n",
            "一份主食：牛肉拉面\n",
            "\n"
          ],
          "name": "stdout"
        }
      ]
    },
    {
      "cell_type": "code",
      "metadata": {
        "colab": {
          "base_uri": "https://localhost:8080/"
        },
        "id": "W_vnaIMegDwV",
        "outputId": "911bad48-5eed-4d62-9471-1da3bfa49ead"
      },
      "source": [
        "#默认参数必须放在位置参数之后。我们来看看代码：\n",
        "def  menu(appetizer, course, dessert = '绿豆沙'):\n",
        "    print('一份开胃菜：' + appetizer)\n",
        "    print('一份主食：' + course)\n",
        "    print('一份甜品：' + dessert)\n",
        "\n",
        "menu('话梅花生','牛肉拉面')\n",
        "#因为已经默认将'绿豆沙'传递给dessert，调用时无须再传递。"
      ],
      "execution_count": 25,
      "outputs": [
        {
          "output_type": "stream",
          "text": [
            "一份开胃菜：话梅花生\n",
            "一份主食：牛肉拉面\n",
            "一份甜品：绿豆沙\n"
          ],
          "name": "stdout"
        }
      ]
    },
    {
      "cell_type": "code",
      "metadata": {
        "colab": {
          "base_uri": "https://localhost:8080/"
        },
        "id": "QEwrhbq7gKRV",
        "outputId": "867c55c8-f748-48a8-d3f8-00fac165d808"
      },
      "source": [
        "def menu(appetizer, course, dessert = '绿豆沙'):\n",
        "    print('一份开胃菜：' + appetizer)\n",
        "    print('一份主食：' + course)\n",
        "    print('一份甜品：' + dessert)\n",
        "\n",
        "\n",
        "menu('话梅花生','牛肉拉面')\n",
        "menu('话梅花生','牛肉拉面','银耳羹')\n",
        "#银耳羹对应参数dessert\n",
        "\n",
        "#默认参数再赋值也可以改\n"
      ],
      "execution_count": 26,
      "outputs": [
        {
          "output_type": "stream",
          "text": [
            "一份开胃菜：话梅花生\n",
            "一份主食：牛肉拉面\n",
            "一份甜品：绿豆沙\n",
            "一份开胃菜：话梅花生\n",
            "一份主食：牛肉拉面\n",
            "一份甜品：银耳羹\n"
          ],
          "name": "stdout"
        }
      ]
    },
    {
      "cell_type": "markdown",
      "metadata": {
        "id": "ovT5PyxogbIt"
      },
      "source": [
        "**不定长参数**   *参数名"
      ]
    },
    {
      "cell_type": "code",
      "metadata": {
        "colab": {
          "base_uri": "https://localhost:8080/"
        },
        "id": "dQ8ybrHqgO23",
        "outputId": "fa87a835-8047-486e-9a8d-473c30d87b75"
      },
      "source": [
        "def menu(*bbq):\n",
        "  return bbq\n",
        "\n",
        "order = menu('kjc','kqz','kym')\n",
        "print(order)\n",
        "print(type(order))  #type()函数可以知道这种数据类型叫作元组(tuple)\n",
        "#元组的写法是将数据放在小括号()中，它的用法和列表用法类似，主要区别在于列表中的元素可以随时修改，但元组中的元素不可更改。\n",
        "#和列表一样，元组是可迭代对象，这意味着我们可以用for循环来遍历它\n"
      ],
      "execution_count": 31,
      "outputs": [
        {
          "output_type": "stream",
          "text": [
            "('kjc', 'kqz', 'kym')\n",
            "<class 'tuple'>\n"
          ],
          "name": "stdout"
        }
      ]
    },
    {
      "cell_type": "code",
      "metadata": {
        "colab": {
          "base_uri": "https://localhost:8080/"
        },
        "id": "gsgCQoMGglUs",
        "outputId": "7c4fb21a-e88b-42e2-d6e3-e8dc6ddb5579"
      },
      "source": [
        "def menu(*bbq):\n",
        "  for i in bbq:\n",
        "    print('一份烤串：'+i)\n",
        "menu('xc','rw')\n",
        "menu('jc','qz','ym')\n",
        "# 不定长参数可以接收任意数量的值\n",
        "#print(*objects, sep = ' ', end = '\\n', file = sys.stdout, flush = False)"
      ],
      "execution_count": 35,
      "outputs": [
        {
          "output_type": "stream",
          "text": [
            "一份烤串：xc\n",
            "一份烤串：rw\n",
            "一份烤串：jc\n",
            "一份烤串：qz\n",
            "一份烤串：ym\n"
          ],
          "name": "stdout"
        }
      ]
    },
    {
      "cell_type": "code",
      "metadata": {
        "colab": {
          "base_uri": "https://localhost:8080/"
        },
        "id": "910xPhUdhFyR",
        "outputId": "62c17ac8-a1b7-409b-dcae-4831babb070e"
      },
      "source": [
        "print('金枪鱼', '三文鱼', '鲷鱼')\n",
        "print('金枪鱼', '三文鱼', '鲷鱼', sep = '+')\n",
        "# sep控制多个值之间的分隔符，默认是空格\n",
        "print('金枪鱼', '三文鱼', '鲷鱼', sep = '+', end = '=?')\n",
        "# end控制打印结果的结尾，默认是换行)"
      ],
      "execution_count": 36,
      "outputs": [
        {
          "output_type": "stream",
          "text": [
            "金枪鱼 三文鱼 鲷鱼\n",
            "金枪鱼+三文鱼+鲷鱼\n",
            "金枪鱼+三文鱼+鲷鱼=?"
          ],
          "name": "stdout"
        }
      ]
    },
    {
      "cell_type": "code",
      "metadata": {
        "colab": {
          "base_uri": "https://localhost:8080/"
        },
        "id": "3uBU-y4Dlnzo",
        "outputId": "014d3028-0741-420c-9a2c-a3cf4b1225b0"
      },
      "source": [
        "#返回多个值\n",
        "import random\n",
        "\n",
        "appetizer = ['a','b','c']\n",
        "\n",
        "def coupon(money):\n",
        "  if money < 5:\n",
        "    a = random.choice(appetizer)\n",
        "    return a\n",
        "  elif 5 <= money < 10:\n",
        "    b = random.choice(appetizer)\n",
        "    return b,'d'\n",
        "  \n",
        "print(coupon(3))\n",
        "print(coupon(8))\n"
      ],
      "execution_count": 41,
      "outputs": [
        {
          "output_type": "stream",
          "text": [
            "c\n",
            "('a', 'd')\n"
          ],
          "name": "stdout"
        }
      ]
    },
    {
      "cell_type": "code",
      "metadata": {
        "colab": {
          "base_uri": "https://localhost:8080/"
        },
        "id": "qoA6qwt5ltZ4",
        "outputId": "ef2f24aa-a67a-4f4f-8dcd-8755d29051d1"
      },
      "source": [
        "\n",
        "import random \n",
        "#引入random模块\n",
        "\n",
        "appetizer = ['话梅花生','拍黄瓜','凉拌三丝']\n",
        "def coupon(money):\n",
        "    if money < 5:\n",
        "        a = random.choice(appetizer)\n",
        "        return a\n",
        "    elif 5 <= money < 10:\n",
        "        b = random.choice (appetizer)\n",
        "        return b, '溏心蛋'\n",
        "\n",
        "print(coupon(3))\n",
        "print(coupon(6))\n",
        "\n",
        "#要返回多个值，只需将返回的值写在return语句后面，用英文逗号隔开即可。  return a,b return 会终止执行，所以只能有一个return"
      ],
      "execution_count": 42,
      "outputs": [
        {
          "output_type": "stream",
          "text": [
            "拍黄瓜\n",
            "('凉拌三丝', '溏心蛋')\n"
          ],
          "name": "stdout"
        }
      ]
    },
    {
      "cell_type": "code",
      "metadata": {
        "colab": {
          "base_uri": "https://localhost:8080/"
        },
        "id": "TNQLxgeame4t",
        "outputId": "86677404-6b93-4566-eb8f-3bd9e742ad91"
      },
      "source": [
        "import random \n",
        "appetizer = ['话梅花生','拍黄瓜','凉拌三丝']\n",
        "def coupon(money):\n",
        "    if money < 5:\n",
        "        a = random.choice(appetizer)\n",
        "        return a\n",
        "    elif 5 <= money < 10:\n",
        "        b = random.choice (appetizer)\n",
        "        return b, '溏心蛋'\n",
        "\n",
        "print(coupon(6))\n",
        "print(type(coupon(6)))\n",
        "#该元组是由两个元素构成的。所以还是元组"
      ],
      "execution_count": 43,
      "outputs": [
        {
          "output_type": "stream",
          "text": [
            "('拍黄瓜', '溏心蛋')\n",
            "<class 'tuple'>\n"
          ],
          "name": "stdout"
        }
      ]
    },
    {
      "cell_type": "code",
      "metadata": {
        "colab": {
          "base_uri": "https://localhost:8080/"
        },
        "id": "HJdqWUUkmToq",
        "outputId": "d4ef5752-7979-4848-8b95-f96d4e3a2b36"
      },
      "source": [
        "import random \n",
        "appetizer = ['话梅花生','拍黄瓜','凉拌三丝']\n",
        "def coupon(money):\n",
        "    if money < 5:\n",
        "        a = random.choice(appetizer)\n",
        "        return a\n",
        "    elif 5 <= money < 10:\n",
        "        b = random.choice (appetizer)\n",
        "        return b, '溏心蛋'\n",
        "\n",
        "result = coupon(6)\n",
        "# result是一个元组\n",
        "print(result[0])\n",
        "print(result[1])  #元组要用【】很像列表哦\n",
        "\n",
        "\n",
        "dish, egg = coupon(7)\n",
        "# 元组的两个元素分别赋值给变量dish和egg   名1，名2 = 函数名（值）【返回多个值】\n",
        "print(dish)\n",
        "print(egg)"
      ],
      "execution_count": 45,
      "outputs": [
        {
          "output_type": "stream",
          "text": [
            "拍黄瓜\n",
            "溏心蛋\n",
            "凉拌三丝\n",
            "溏心蛋\n"
          ],
          "name": "stdout"
        }
      ]
    },
    {
      "cell_type": "markdown",
      "metadata": {
        "id": "D61MwE3Xmtyl"
      },
      "source": [
        "# **多个应用。** "
      ]
    },
    {
      "cell_type": "markdown",
      "metadata": {
        "id": "WHlHFnWOnJ7E"
      },
      "source": [
        "# 变量作用域"
      ]
    },
    {
      "cell_type": "code",
      "metadata": {
        "colab": {
          "base_uri": "https://localhost:8080/"
        },
        "id": "ovWlpo9AnK0E",
        "outputId": "960f7d60-9e28-4cb3-89ab-3dc4fcd0108d"
      },
      "source": [
        "rent = 3000\n",
        "\n",
        "def cost():\n",
        "  #用之前将局部的变成全部的\n",
        "  global V  #****\n",
        "  U = int(input('sdfy'))\n",
        "  F = int(input('scfy'))\n",
        "  V = U+F\n",
        "  print('totol'+str(V))#一个在函数内部赋值的变量仅能在该函数内部使用（局部作用域），它们被称作【局部变量】，如cost()函数里的variable_cost。\n",
        "  #V 就是局部变量\n",
        "  #在所有函数之外赋值的变量，可以在程序的任何位置使用（全局作用域），它们被称作【全局变量】，如第一行的rent。\n",
        "  #在外面的rent就是全局变量\n",
        "\n",
        "def sum():\n",
        "  sum = rent+V\n",
        "  print('sum'+str(sum))\n",
        "\n",
        "cost()\n",
        "sum()\n",
        "\n",
        "\n",
        "#solve 1 全放外面 ；2 内部改：global 语句它可以将局部变量声明为全局变量"
      ],
      "execution_count": 51,
      "outputs": [
        {
          "output_type": "stream",
          "text": [
            "sdfy1\n",
            "scfy2\n",
            "totol3\n",
            "sum3003\n"
          ],
          "name": "stdout"
        }
      ]
    },
    {
      "cell_type": "code",
      "metadata": {
        "colab": {
          "base_uri": "https://localhost:8080/"
        },
        "id": "haoKbzconiJ9",
        "outputId": "6bcc9439-1e02-4603-cfbc-8a797b4b0af8"
      },
      "source": [
        "rent = 3000\n",
        "utilities = int(input('请输入本月的水电费用'))\n",
        "food_cost = int(input('请输入本月的食材费用'))\n",
        "variable_cost = utilities + food_cost \n",
        "# 以上均为全局变量\n",
        "print('本月的变动成本是' + str(variable_cost))\n",
        "\n",
        "def sum_cost():\n",
        "    sum = rent + variable_cost\n",
        "    print('本月的总成本是' + str(sum))\n",
        "\n",
        "sum_cost()"
      ],
      "execution_count": 52,
      "outputs": [
        {
          "output_type": "stream",
          "text": [
            "请输入本月的水电费用2\n",
            "请输入本月的食材费用4\n",
            "本月的变动成本是6\n",
            "本月的总成本是3006\n"
          ],
          "name": "stdout"
        }
      ]
    },
    {
      "cell_type": "markdown",
      "metadata": {
        "id": "JiNumzpqoJLb"
      },
      "source": [
        "# 函数的嵌套"
      ]
    },
    {
      "cell_type": "code",
      "metadata": {
        "id": "oCIqtZ2KotHx"
      },
      "source": [
        "#print(len('我和你'))，这里就是print()嵌套了len()，Python会先执行len()函数，得到一个返回值，再由print()打印出来。\n",
        "\n",
        "#我们可以在函数中调用其他函数了\n",
        "rent = 3000\n",
        "\n",
        "def cost():\n",
        "    utilities = int(input('请输入本月的水电费用'))\n",
        "    food_cost = int(input('请输入本月的食材费用'))\n",
        "    variable_cost = utilities + food_cost\n",
        "    print('本月的变动成本是' + str(variable_cost))\n",
        "    return variable_cost\n",
        "\n",
        "def sum_cost():\n",
        "    sum = rent + cost()  #这呢 这就不用全局了+你想用的函数的名称\n",
        "    print('本月的总成本是' + str(sum))\n",
        "\n",
        "sum_cost()\n",
        "\n",
        "\n",
        "# sum = rent + cost()   ==   sum = rent +V"
      ],
      "execution_count": null,
      "outputs": []
    },
    {
      "cell_type": "markdown",
      "metadata": {
        "id": "GeUNgGLxpibX"
      },
      "source": [
        "def语句后的代码块只是封装了函数的功能，如果没有被调用，那么def语句后面的代码永远不会被执行。"
      ]
    },
    {
      "cell_type": "markdown",
      "metadata": {
        "id": "PMwQgN1Dpkr1"
      },
      "source": [
        "**main()会直接执行**"
      ]
    },
    {
      "cell_type": "code",
      "metadata": {
        "id": "ynd3ft_Zppt9"
      },
      "source": [
        "def div(num1,num2):\n",
        "  growth = (num1 - num2) /num2\n",
        "  percent = str(growth *100)+'%'\n",
        "  return percent\n",
        "\n",
        "def warning():\n",
        "  print('Error:你确定？')\n",
        "  \n",
        "def main():\n",
        "  while True:\n",
        "    num1 = float(input('ben'))\n",
        "    num2 = float(input('shang'))\n",
        "\n",
        "    if num2 == 0:\n",
        "      warning()\n",
        "    else:\n",
        "      print('ben'+div(num1,num2))\n",
        "main()\n",
        "    \n",
        "\n",
        "    #它只是在你想用这个功能的时候，就把这一大堆功能用函数的名字+（）来代替如果这个函数在制定名字的时候（）有参数，那么就把参数也写上\n",
        "    #也就是说，你用的时候就把def后：前的都抄上\n",
        "    #最后只要再写个main（）\n"
      ],
      "execution_count": null,
      "outputs": []
    },
    {
      "cell_type": "code",
      "metadata": {
        "id": "VxV2isNVqv82"
      },
      "source": [
        "#类编写一个直观的好处就是参数的传递会比普通函数要省事很多，也不必考虑全局变量和局部变量，因为类中的方法可以直接调用属性。\n",
        "#不用考虑局部和全部\n"
      ],
      "execution_count": null,
      "outputs": []
    }
  ]
}